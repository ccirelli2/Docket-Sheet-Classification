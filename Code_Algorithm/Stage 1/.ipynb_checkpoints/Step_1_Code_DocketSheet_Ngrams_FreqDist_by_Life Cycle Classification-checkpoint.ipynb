{
 "cells": [
  {
   "cell_type": "code",
   "execution_count": 2,
   "metadata": {},
   "outputs": [
    {
     "data": {
      "text/plain": [
       "'Documentation\\n\\n\\n\\n'"
      ]
     },
     "execution_count": 2,
     "metadata": {},
     "output_type": "execute_result"
    }
   ],
   "source": [
    "'''Documentation\n",
    "\n",
    "\n",
    "\n",
    "'''"
   ]
  },
  {
   "cell_type": "code",
   "execution_count": null,
   "metadata": {},
   "outputs": [],
   "source": []
  },
  {
   "cell_type": "code",
   "execution_count": null,
   "metadata": {},
   "outputs": [],
   "source": []
  },
  {
   "cell_type": "code",
   "execution_count": 3,
   "metadata": {},
   "outputs": [],
   "source": [
    "# IMPORT LIBRARIES"
   ]
  },
  {
   "cell_type": "code",
   "execution_count": 4,
   "metadata": {},
   "outputs": [],
   "source": [
    "import os\n",
    "import re\n",
    "import nltk\n",
    "import pandas as pd\n",
    "import string"
   ]
  },
  {
   "cell_type": "code",
   "execution_count": null,
   "metadata": {},
   "outputs": [],
   "source": []
  },
  {
   "cell_type": "code",
   "execution_count": 5,
   "metadata": {},
   "outputs": [],
   "source": [
    "# IMPORT MODULES"
   ]
  },
  {
   "cell_type": "code",
   "execution_count": 6,
   "metadata": {},
   "outputs": [],
   "source": [
    "os.chdir(r'C:\\\\Users\\\\Chris.Cirelli\\\\Desktop\\\\Python Programming Docs\\\\GSU\\\\Sprint Project\\\\Docket-Sheet-Classification\\\\Modules')\n",
    "import Step1_Module_Ngrams_FreqDist as stp1_Ngrams"
   ]
  },
  {
   "cell_type": "code",
   "execution_count": null,
   "metadata": {},
   "outputs": [],
   "source": []
  },
  {
   "cell_type": "code",
   "execution_count": 7,
   "metadata": {},
   "outputs": [],
   "source": [
    "# IMPORT DOCKET SHEET WITH PRE-CLASSIFIED TIME PERIODS"
   ]
  },
  {
   "cell_type": "code",
   "execution_count": 8,
   "metadata": {},
   "outputs": [],
   "source": [
    "Docket_sheet_file = r'C:\\Users\\Chris.Cirelli\\Desktop\\Python Programming Docs\\GSU\\Sprint Project\\Docket-Sheet-Classification\\Data_Files_applicable_all_code\\DocketSheet Classification_70_02.22.2018.xlsx'"
   ]
  },
  {
   "cell_type": "code",
   "execution_count": null,
   "metadata": {},
   "outputs": [],
   "source": []
  },
  {
   "cell_type": "code",
   "execution_count": 9,
   "metadata": {},
   "outputs": [],
   "source": [
    "# CREATE A DATAFRAME WHOSE INDEX IS THE SET OF WORDS AND COLUMNS THE FREQ DIST FOR EACH STAGE OF THE LIFE CYCLE"
   ]
  },
  {
   "cell_type": "code",
   "execution_count": 10,
   "metadata": {},
   "outputs": [],
   "source": [
    "def master_code_Pipeline_create_dataframe_setWord_freqDist(Docket_sheet_file, Ngrams = 'Bigrams'):\n",
    "    '''The purpose of this master code pipeline is to pipeline all of the functions required to create the word frequency distribution dataframe \n",
    "       for each life cycle of the Docket Sheet\n",
    "       \n",
    "       Input       =     Docket sheet file as an excel spreadsheet.  We will read in using pandas. \n",
    "                         'Bigrams', 'Trigrams', 'Quadgrams'\n",
    "                         \n",
    "       Operations  = 1.) Import the docket sheet, delimit columns, remove rows where time-period = 0/None\n",
    "                     2.) Concatenate all of the text located in the text column of the Docket Sheet for which a time period has been assigned.\n",
    "                         Write the text file to current-working-directory.\n",
    "                     3.) Import into memor the concatenated text file. \n",
    "                     4.) Tokenize text file, clean tokens of punctuation, stop words and limit to isalpha(). \n",
    "                     5.) Create a set of from our tokenized and cleaned text.  This set will constitute the basis for our word frequency distribution. \n",
    "                     6.) Create a dataframe whose index is the above create set of words.  Generate the word frequency for each life cycle stage for\n",
    "                         this set of words. Return to the user the dataframe in memory. \n",
    "    '''\n",
    "    \n",
    "    # 1.) Import Target File / Delimit Columns / Remove Rows if Period = None\n",
    "    df_Master_DocketSheet_File = stp1_Ngrams.import_docket_sheet_file(Docket_sheet_file)\n",
    "    \n",
    "    # 2.) Concatenate Text From Docket Sheet Time Periods\n",
    "    stp1_Ngrams.create_Concatenated_text_file(df_Master_DocketSheet_File, 'Concatenate_DocketSheet_Text')\n",
    "    \n",
    "    # 3.) Import Into Memory Concatenated Text File\n",
    "    Concat_txt_File = stp1_Ngrams.import_concatTxt('Concatenate_DocketSheet_Text.txt')\n",
    "    \n",
    "    # 4.) Clean & Tokenize Concatenated Text File.  Return a List object. \n",
    "    Clean_tokenized_concatText = stp1_Ngrams.clean_andTokenize_text(Concat_txt_File)\n",
    "    \n",
    "    # Create Ngrams\n",
    "    Ngram_list = stp1_Ngrams.get_Ngrams(Clean_tokenized_concatText, Ngrams)\n",
    "        \n",
    "        \n",
    "    '''    \n",
    "    # 5.) Create Set of Ngrams from our Ngram_list.  This will serve as the index for our Freq_Dist dataframe. \n",
    "    Set_tokenized_concatText = list(set(Ngram_list))\n",
    "        \n",
    "    # 6.) Create & Return Word Frequency Distribution Dataframe\n",
    "    df_word_freq_final = stp1_Ngrams.create_dataframe_setWord_freqDist(df_Master_DocketSheet_File, \n",
    "                                                                       Set_tokenized_concatText, \n",
    "                                                                       Ngrams)\n",
    "    '''\n",
    "    return Ngram_list\n"
   ]
  },
  {
   "cell_type": "code",
   "execution_count": 11,
   "metadata": {},
   "outputs": [
    {
     "name": "stdout",
     "output_type": "stream",
     "text": [
      "Concatenated text created\n",
      "\n",
      "Concatenated text imported\n",
      "\n"
     ]
    }
   ],
   "source": [
    "df_Word_Freq_Dist = master_code_Pipeline_create_dataframe_setWord_freqDist(Docket_sheet_file, Ngrams = 'Quadgrams')"
   ]
  },
  {
   "cell_type": "code",
   "execution_count": 12,
   "metadata": {},
   "outputs": [
    {
     "data": {
      "text/plain": [
       "'VARIATION OF THE CODE.  \\nLIMIT THE DATAFRAME BY THE STAGE\\nCLEAN, TOKENIZE EACH & OBTAIN NGRAMS FOR THAT STAGE\\n\\n'"
      ]
     },
     "execution_count": 12,
     "metadata": {},
     "output_type": "execute_result"
    }
   ],
   "source": [
    "'''VARIATION OF THE CODE.  \n",
    "LIMIT THE DATAFRAME BY THE STAGE\n",
    "CLEAN, TOKENIZE EACH & OBTAIN NGRAMS FOR THAT STAGE\n",
    "\n",
    "'''"
   ]
  },
  {
   "cell_type": "code",
   "execution_count": 13,
   "metadata": {},
   "outputs": [],
   "source": [
    "df1 = pd.DataFrame({}, index = ['A', 'B', 'D']) \n",
    "df1['Test1'] = [1,2,3]"
   ]
  },
  {
   "cell_type": "code",
   "execution_count": 14,
   "metadata": {},
   "outputs": [],
   "source": [
    "df2 = pd.DataFrame({}, index = ['A', 'E', 'C']) \n",
    "df2['Test2'] = [4,5,6]"
   ]
  },
  {
   "cell_type": "code",
   "execution_count": 15,
   "metadata": {},
   "outputs": [
    {
     "data": {
      "text/html": [
       "<div>\n",
       "<style>\n",
       "    .dataframe thead tr:only-child th {\n",
       "        text-align: right;\n",
       "    }\n",
       "\n",
       "    .dataframe thead th {\n",
       "        text-align: left;\n",
       "    }\n",
       "\n",
       "    .dataframe tbody tr th {\n",
       "        vertical-align: top;\n",
       "    }\n",
       "</style>\n",
       "<table border=\"1\" class=\"dataframe\">\n",
       "  <thead>\n",
       "    <tr style=\"text-align: right;\">\n",
       "      <th></th>\n",
       "      <th>Test1</th>\n",
       "      <th>Test2</th>\n",
       "    </tr>\n",
       "  </thead>\n",
       "  <tbody>\n",
       "    <tr>\n",
       "      <th>A</th>\n",
       "      <td>1.0</td>\n",
       "      <td>4.0</td>\n",
       "    </tr>\n",
       "    <tr>\n",
       "      <th>B</th>\n",
       "      <td>2.0</td>\n",
       "      <td>NaN</td>\n",
       "    </tr>\n",
       "    <tr>\n",
       "      <th>C</th>\n",
       "      <td>NaN</td>\n",
       "      <td>6.0</td>\n",
       "    </tr>\n",
       "    <tr>\n",
       "      <th>D</th>\n",
       "      <td>3.0</td>\n",
       "      <td>NaN</td>\n",
       "    </tr>\n",
       "    <tr>\n",
       "      <th>E</th>\n",
       "      <td>NaN</td>\n",
       "      <td>5.0</td>\n",
       "    </tr>\n",
       "  </tbody>\n",
       "</table>\n",
       "</div>"
      ],
      "text/plain": [
       "   Test1  Test2\n",
       "A    1.0    4.0\n",
       "B    2.0    NaN\n",
       "C    NaN    6.0\n",
       "D    3.0    NaN\n",
       "E    NaN    5.0"
      ]
     },
     "execution_count": 15,
     "metadata": {},
     "output_type": "execute_result"
    }
   ],
   "source": [
    "df1.merge(df2, how = 'outer', left_index = True, right_index = True)"
   ]
  },
  {
   "cell_type": "code",
   "execution_count": null,
   "metadata": {},
   "outputs": [],
   "source": []
  },
  {
   "cell_type": "code",
   "execution_count": 16,
   "metadata": {},
   "outputs": [],
   "source": [
    "def get_Ngram_freq_dist_by_stage(Docket_sheet, Ngram_type):\n",
    "    \n",
    "    ### Add an option to chose which Ngram you want.  \n",
    "    ### Also, an option to chose whether you want an absolute freq or the % of the times the Ngram appears for a given stage. \n",
    "    \n",
    "    df_Master_DocketSheet_File = stp1_Ngrams.import_docket_sheet_file(Docket_sheet)\n",
    "    Stages = set(df_Master_DocketSheet_File['Time Period'])\n",
    "    \n",
    "    # Create a Dataframe to house our Freq Dist \n",
    "    df_Freq_Dist = ''\n",
    "    \n",
    "    # Dictionary to catch the number of rows per stage. \n",
    "    Rows_per_stage = {}\n",
    "    \n",
    "    # Iterate over each stage in the Docket_sheet\n",
    "    for stage in Stages:\n",
    "        # Limit the DataFrame by Each Stage in succession. \n",
    "        delimiter = df_Master_DocketSheet_File['Time Period'] == stage\n",
    "        df_limited = df_Master_DocketSheet_File[delimiter]\n",
    "        \n",
    "        # Dictonary to Capture Ngram Freq by Stage\n",
    "        Ngram_dictionary = {}\n",
    "        \n",
    "        # Count rows to serve as the denominator for our freq dist for each stage. \n",
    "        Count_rows = 0\n",
    "        \n",
    "        # Identify only the text of each row. \n",
    "        for row in df_limited.itertuples():\n",
    "            \n",
    "            # Count rows\n",
    "            Count_rows += 1\n",
    "            \n",
    "            # Get Text\n",
    "            text = row[4]\n",
    "            \n",
    "            # Clean & Tokenize the text\n",
    "            clean_tokenized_text = stp1_Ngrams.clean_andTokenize_text(text)\n",
    "            \n",
    "            # Get Ngrams\n",
    "            Ngrams = stp1_Ngrams.get_Ngrams(clean_tokenized_text, Ngram_type)\n",
    "            \n",
    "            # Loop over Ngrams\n",
    "            for ngram in Ngrams:\n",
    "                Ngram_dictionary[ngram] = Ngram_dictionary.get(ngram, 0) + 1\n",
    "        \n",
    "        # Create an entry in our Rows_per_stage dictonary\n",
    "        Rows_per_stage[stage] = Count_rows\n",
    "        \n",
    "        # Once the Dictionary is fully grown for the stage in question, create a column in our dataframe. \n",
    "        \n",
    "        # If the stage = 1, assign the placeholder object df_Freq_Dist the value of the dataframe created from the\n",
    "        # Freq Dist of our first Stage. \n",
    "        \n",
    "        if stage < 2:\n",
    "            df_Freq_Dist = pd.DataFrame(Ngram_dictionary, index = [stage]).transpose()\n",
    "        # Otherwise, create a new dataframe of each new stage and merge it into our stage 1 dataframe on the index. \n",
    "        else:\n",
    "            df = pd.DataFrame(Ngram_dictionary, index = [stage]).transpose()\n",
    "            df_Freq_Dist = df_Freq_Dist.merge(df, how = 'outer', left_index = True, right_index = True)\n",
    " \n",
    "\n",
    "    # Once the list of ngrams is complete, return it to the user.\n",
    "    return df_Freq_Dist\n",
    "            \n",
    "    "
   ]
  },
  {
   "cell_type": "code",
   "execution_count": 19,
   "metadata": {},
   "outputs": [],
   "source": [
    "Test = Test_code(Docket_sheet_file, 'Nograms')"
   ]
  },
  {
   "cell_type": "code",
   "execution_count": null,
   "metadata": {},
   "outputs": [],
   "source": []
  },
  {
   "cell_type": "code",
   "execution_count": null,
   "metadata": {},
   "outputs": [],
   "source": []
  },
  {
   "cell_type": "code",
   "execution_count": null,
   "metadata": {
    "collapsed": true
   },
   "outputs": [],
   "source": []
  },
  {
   "cell_type": "code",
   "execution_count": null,
   "metadata": {
    "collapsed": true
   },
   "outputs": [],
   "source": []
  },
  {
   "cell_type": "code",
   "execution_count": null,
   "metadata": {
    "collapsed": true
   },
   "outputs": [],
   "source": []
  },
  {
   "cell_type": "code",
   "execution_count": null,
   "metadata": {
    "collapsed": true
   },
   "outputs": [],
   "source": []
  },
  {
   "cell_type": "code",
   "execution_count": null,
   "metadata": {
    "collapsed": true
   },
   "outputs": [],
   "source": []
  }
 ],
 "metadata": {
  "kernelspec": {
   "display_name": "Python 3",
   "language": "python",
   "name": "python3"
  },
  "language_info": {
   "codemirror_mode": {
    "name": "ipython",
    "version": 3
   },
   "file_extension": ".py",
   "mimetype": "text/x-python",
   "name": "python",
   "nbconvert_exporter": "python",
   "pygments_lexer": "ipython3",
   "version": "3.6.1"
  }
 },
 "nbformat": 4,
 "nbformat_minor": 2
}
