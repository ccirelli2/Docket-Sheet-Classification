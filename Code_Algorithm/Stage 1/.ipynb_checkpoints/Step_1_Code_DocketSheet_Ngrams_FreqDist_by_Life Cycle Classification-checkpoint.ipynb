{
 "cells": [
  {
   "cell_type": "code",
   "execution_count": 1,
   "metadata": {},
   "outputs": [
    {
     "data": {
      "text/plain": [
       "'Documentation\\n\\n\\n\\n'"
      ]
     },
     "execution_count": 1,
     "metadata": {},
     "output_type": "execute_result"
    }
   ],
   "source": [
    "'''Documentation\n",
    "\n",
    "\n",
    "\n",
    "'''"
   ]
  },
  {
   "cell_type": "code",
   "execution_count": null,
   "metadata": {},
   "outputs": [],
   "source": []
  },
  {
   "cell_type": "code",
   "execution_count": 2,
   "metadata": {},
   "outputs": [],
   "source": [
    "# IMPORT LIBRARIES"
   ]
  },
  {
   "cell_type": "code",
   "execution_count": 3,
   "metadata": {},
   "outputs": [],
   "source": [
    "import os\n",
    "import re\n",
    "import nltk\n",
    "import pandas as pd\n",
    "import string"
   ]
  },
  {
   "cell_type": "code",
   "execution_count": null,
   "metadata": {},
   "outputs": [],
   "source": []
  },
  {
   "cell_type": "code",
   "execution_count": 4,
   "metadata": {},
   "outputs": [],
   "source": [
    "# IMPORT MODULES"
   ]
  },
  {
   "cell_type": "code",
   "execution_count": 5,
   "metadata": {},
   "outputs": [],
   "source": [
    "os.chdir(r'C:\\\\Users\\\\Chris.Cirelli\\\\Desktop\\\\Python Programming Docs\\\\GSU\\\\Sprint Project\\\\Docket-Sheet-Classification\\\\Modules')\n",
    "import Step1_Module_Ngrams_FreqDist as stp1_Ngrams"
   ]
  },
  {
   "cell_type": "code",
   "execution_count": null,
   "metadata": {},
   "outputs": [],
   "source": []
  },
  {
   "cell_type": "code",
   "execution_count": 6,
   "metadata": {},
   "outputs": [],
   "source": [
    "# IMPORT DOCKET SHEET WITH PRE-CLASSIFIED TIME PERIODS"
   ]
  },
  {
   "cell_type": "code",
   "execution_count": 7,
   "metadata": {},
   "outputs": [],
   "source": [
    "Docket_sheet_file = r'C:\\Users\\Chris.Cirelli\\Desktop\\Python Programming Docs\\GSU\\Sprint Project\\Docket-Sheet-Classification\\Data_Files_applicable_all_code\\DocketSheet Classification_70_02.22.2018.xlsx'"
   ]
  },
  {
   "cell_type": "code",
   "execution_count": null,
   "metadata": {},
   "outputs": [],
   "source": []
  },
  {
   "cell_type": "code",
   "execution_count": 8,
   "metadata": {},
   "outputs": [],
   "source": [
    "def get_Ngram_freq_dist_by_stage(Docket_sheet, Ngram_type):\n",
    "    \n",
    "    ### Add an option to chose which Ngram you want.  \n",
    "    ### Also, an option to chose whether you want an absolute freq or the % of the times the Ngram appears for a given stage. \n",
    "    \n",
    "    df_Master_DocketSheet_File = stp1_Ngrams.import_docket_sheet_file(Docket_sheet)\n",
    "    Stages = set(df_Master_DocketSheet_File['Time Period'])\n",
    "    \n",
    "    # Create a Dataframe to house our Freq Dist \n",
    "    df_Freq_Dist = ''\n",
    "    \n",
    "    # Dictionary to catch the number of rows per stage. \n",
    "    Rows_per_stage = {}\n",
    "    \n",
    "    # Iterate over each stage in the Docket_sheet\n",
    "    for stage in Stages:\n",
    "        # Limit the DataFrame by Each Stage in succession. \n",
    "        delimiter = df_Master_DocketSheet_File['Time Period'] == stage\n",
    "        df_limited = df_Master_DocketSheet_File[delimiter]\n",
    "        \n",
    "        # Dictonary to Capture Ngram Freq by Stage\n",
    "        Ngram_dictionary = {}\n",
    "        \n",
    "        # Count rows to serve as the denominator for our freq dist for each stage. \n",
    "        Count_rows = 0\n",
    "        \n",
    "        # Identify only the text of each row. \n",
    "        for row in df_limited.itertuples():\n",
    "            \n",
    "            # Count rows\n",
    "            Count_rows += 1\n",
    "            \n",
    "            # Get Text\n",
    "            text = row[4]\n",
    "            \n",
    "            # Clean & Tokenize the text\n",
    "            clean_tokenized_text = stp1_Ngrams.clean_andTokenize_text(text)\n",
    "            \n",
    "            # Get Ngrams\n",
    "            Ngrams = stp1_Ngrams.get_Ngrams(clean_tokenized_text, Ngram_type)\n",
    "            \n",
    "            # Loop over Ngrams\n",
    "            for ngram in Ngrams:\n",
    "                Ngram_dictionary[ngram] = Ngram_dictionary.get(ngram, 0) + 1\n",
    "        \n",
    "        # Create an entry in our Rows_per_stage dictonary\n",
    "        Rows_per_stage[stage] = Count_rows\n",
    "        \n",
    "        # Once the Dictionary is fully grown for the stage in question, create a column in our dataframe. \n",
    "        \n",
    "        # If the stage = 1, assign the placeholder object df_Freq_Dist the value of the dataframe created from the\n",
    "        # Freq Dist of our first Stage. \n",
    "        \n",
    "        print('Stage =>', stage, '\\n')\n",
    "        print('Count of rows =>', Count_rows, '\\n')\n",
    "        \n",
    "        if stage < 2:\n",
    "            df_Freq_Dist = pd.DataFrame(Ngram_dictionary, index = [stage]).transpose()\n",
    "        # Otherwise, create a new dataframe of each new stage and merge it into our stage 1 dataframe on the index. \n",
    "        else:\n",
    "            df = pd.DataFrame(Ngram_dictionary, index = [stage]).transpose()\n",
    "            df_Freq_Dist = df_Freq_Dist.merge(df, how = 'outer', left_index = True, right_index = True)\n",
    " \n",
    "\n",
    "    # Once the list of ngrams is complete, return it to the user.\n",
    "    return df_Freq_Dist\n",
    "            \n",
    "    "
   ]
  },
  {
   "cell_type": "code",
   "execution_count": 10,
   "metadata": {},
   "outputs": [
    {
     "name": "stdout",
     "output_type": "stream",
     "text": [
      "Stage => 1.0 \n",
      "\n",
      "Count of rows => 108 \n",
      "\n",
      "Stage => 2.0 \n",
      "\n",
      "Count of rows => 119 \n",
      "\n",
      "Stage => 3.0 \n",
      "\n",
      "Count of rows => 99 \n",
      "\n",
      "Stage => 4.0 \n",
      "\n",
      "Count of rows => 58 \n",
      "\n",
      "Stage => 5.0 \n",
      "\n",
      "Count of rows => 594 \n",
      "\n",
      "Stage => 6.0 \n",
      "\n",
      "Count of rows => 73 \n",
      "\n",
      "Stage => 7.0 \n",
      "\n",
      "Count of rows => 74 \n",
      "\n",
      "Stage => 8.0 \n",
      "\n",
      "Count of rows => 79 \n",
      "\n",
      "Stage => 9.0 \n",
      "\n",
      "Count of rows => 2 \n",
      "\n",
      "Stage => 10.0 \n",
      "\n",
      "Count of rows => 37 \n",
      "\n",
      "Stage => 11.0 \n",
      "\n",
      "Count of rows => 52 \n",
      "\n"
     ]
    }
   ],
   "source": [
    "Test = get_Ngram_freq_dist_by_stage(Docket_sheet_file, 'Nograms')"
   ]
  },
  {
   "cell_type": "code",
   "execution_count": null,
   "metadata": {},
   "outputs": [],
   "source": []
  },
  {
   "cell_type": "code",
   "execution_count": null,
   "metadata": {},
   "outputs": [],
   "source": []
  },
  {
   "cell_type": "code",
   "execution_count": 30,
   "metadata": {},
   "outputs": [],
   "source": [
    "df1 = pd.DataFrame({'A': [0, 1,2,3,4]}, index = [0, 1,2,3,4])"
   ]
  },
  {
   "cell_type": "code",
   "execution_count": 31,
   "metadata": {},
   "outputs": [
    {
     "data": {
      "text/html": [
       "<div>\n",
       "<style>\n",
       "    .dataframe thead tr:only-child th {\n",
       "        text-align: right;\n",
       "    }\n",
       "\n",
       "    .dataframe thead th {\n",
       "        text-align: left;\n",
       "    }\n",
       "\n",
       "    .dataframe tbody tr th {\n",
       "        vertical-align: top;\n",
       "    }\n",
       "</style>\n",
       "<table border=\"1\" class=\"dataframe\">\n",
       "  <thead>\n",
       "    <tr style=\"text-align: right;\">\n",
       "      <th></th>\n",
       "      <th>A</th>\n",
       "    </tr>\n",
       "  </thead>\n",
       "  <tbody>\n",
       "    <tr>\n",
       "      <th>0</th>\n",
       "      <td>0.000000</td>\n",
       "    </tr>\n",
       "    <tr>\n",
       "      <th>1</th>\n",
       "      <td>0.142857</td>\n",
       "    </tr>\n",
       "    <tr>\n",
       "      <th>2</th>\n",
       "      <td>0.285714</td>\n",
       "    </tr>\n",
       "    <tr>\n",
       "      <th>3</th>\n",
       "      <td>0.428571</td>\n",
       "    </tr>\n",
       "    <tr>\n",
       "      <th>4</th>\n",
       "      <td>0.571429</td>\n",
       "    </tr>\n",
       "  </tbody>\n",
       "</table>\n",
       "</div>"
      ],
      "text/plain": [
       "          A\n",
       "0  0.000000\n",
       "1  0.142857\n",
       "2  0.285714\n",
       "3  0.428571\n",
       "4  0.571429"
      ]
     },
     "execution_count": 31,
     "metadata": {},
     "output_type": "execute_result"
    }
   ],
   "source": [
    "df1/7"
   ]
  },
  {
   "cell_type": "code",
   "execution_count": null,
   "metadata": {},
   "outputs": [],
   "source": []
  },
  {
   "cell_type": "code",
   "execution_count": null,
   "metadata": {},
   "outputs": [],
   "source": []
  },
  {
   "cell_type": "code",
   "execution_count": null,
   "metadata": {},
   "outputs": [],
   "source": []
  },
  {
   "cell_type": "code",
   "execution_count": null,
   "metadata": {
    "collapsed": true
   },
   "outputs": [],
   "source": []
  },
  {
   "cell_type": "code",
   "execution_count": null,
   "metadata": {
    "collapsed": true
   },
   "outputs": [],
   "source": []
  },
  {
   "cell_type": "code",
   "execution_count": null,
   "metadata": {
    "collapsed": true
   },
   "outputs": [],
   "source": []
  },
  {
   "cell_type": "code",
   "execution_count": null,
   "metadata": {
    "collapsed": true
   },
   "outputs": [],
   "source": []
  },
  {
   "cell_type": "code",
   "execution_count": null,
   "metadata": {
    "collapsed": true
   },
   "outputs": [],
   "source": []
  }
 ],
 "metadata": {
  "kernelspec": {
   "display_name": "Python 3",
   "language": "python",
   "name": "python3"
  },
  "language_info": {
   "codemirror_mode": {
    "name": "ipython",
    "version": 3
   },
   "file_extension": ".py",
   "mimetype": "text/x-python",
   "name": "python",
   "nbconvert_exporter": "python",
   "pygments_lexer": "ipython3",
   "version": "3.6.1"
  }
 },
 "nbformat": 4,
 "nbformat_minor": 2
}
