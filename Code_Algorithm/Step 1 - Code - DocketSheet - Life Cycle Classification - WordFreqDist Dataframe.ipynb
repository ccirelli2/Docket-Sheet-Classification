{
 "cells": [
  {
   "cell_type": "code",
   "execution_count": null,
   "metadata": {
    "collapsed": true
   },
   "outputs": [],
   "source": [
    "# IMPORT LIBRARIES"
   ]
  },
  {
   "cell_type": "code",
   "execution_count": null,
   "metadata": {
    "collapsed": true
   },
   "outputs": [],
   "source": []
  },
  {
   "cell_type": "code",
   "execution_count": 6,
   "metadata": {},
   "outputs": [],
   "source": [
    "import os\n",
    "import re\n",
    "import nltk\n",
    "import pandas as pd\n",
    "import string\n",
    "import Step1_Module as dsc_m"
   ]
  },
  {
   "cell_type": "code",
   "execution_count": null,
   "metadata": {
    "collapsed": true
   },
   "outputs": [],
   "source": []
  },
  {
   "cell_type": "code",
   "execution_count": null,
   "metadata": {},
   "outputs": [],
   "source": []
  },
  {
   "cell_type": "code",
   "execution_count": null,
   "metadata": {
    "collapsed": true
   },
   "outputs": [],
   "source": []
  },
  {
   "cell_type": "code",
   "execution_count": null,
   "metadata": {
    "collapsed": true
   },
   "outputs": [],
   "source": [
    "# CREATE OBJECT FOR DOCKET SHEET EXCEL FILE"
   ]
  },
  {
   "cell_type": "code",
   "execution_count": 10,
   "metadata": {},
   "outputs": [],
   "source": [
    "Docket_sheet_file = r'DocketSheet Classification_70_02.22.2018.xlsx'"
   ]
  },
  {
   "cell_type": "code",
   "execution_count": null,
   "metadata": {
    "collapsed": true
   },
   "outputs": [],
   "source": []
  },
  {
   "cell_type": "code",
   "execution_count": null,
   "metadata": {
    "collapsed": true
   },
   "outputs": [],
   "source": [
    "# CREATE A DATAFRAME WHOSE INDEX IS THE SET OF WORDS AND COLUMNS THE FREQ DIST FOR EACH STAGE OF THE LIFE CYCLE"
   ]
  },
  {
   "cell_type": "code",
   "execution_count": 11,
   "metadata": {},
   "outputs": [],
   "source": [
    "def master_code_Pipeline_create_dataframe_setWord_freqDist(Docket_sheet_file):\n",
    "    '''The purpose of this master code pipeline is to pipeline all of the functions required to create the word frequency distribution dataframe \n",
    "       for each life cycle of the Docket Sheet\n",
    "       \n",
    "       Input       = Docket sheet file as an excel spreadsheet.  We will read in using pandas. \n",
    "       Operations  = 1.) Import the docket sheet, delimit columns, remove rows where time-period = 0/None\n",
    "                     2.) Concatenate all of the text located in the text column of the Docket Sheet for which a time period has been assigned.\n",
    "                         Write the text file to current-working-directory.\n",
    "                     3.) Import into memor the concatenated text file. \n",
    "                     4.) Tokenize text file, clean tokens of punctuation, stop words and limit to isalpha(). \n",
    "                     5.) Create a set of from our tokenized and cleaned text.  This set will constitute the basis for our word frequency distribution. \n",
    "                     6.) Create a dataframe whose index is the above create set of words.  Generate the word frequency for each life cycle stage for\n",
    "                         this set of words. Return to the user the dataframe in memory. \n",
    "    '''\n",
    "    \n",
    "    # 1.) Import Target File / Delimit Columns / Remove Rows if Period = None\n",
    "    df_Master_DocketSheet_File = dsc_m.import_docket_sheet_file(Docket_sheet_file)\n",
    "    \n",
    "    # 2.) Concatenate Text From Docket Sheet Time Periods\n",
    "    dsc_m.create_Concatenated_text_file(df_Master_DocketSheet_File, 'Concatenate_DocketSheet_Text')\n",
    "    \n",
    "    # 3.) Import Into Memory Concatenated Text File\n",
    "    Concat_txt_File = dsc_m.import_concatTxt('Concatenate_DocketSheet_Text.txt')\n",
    "    \n",
    "    # 4.) Clean & Tokenize Concatenated Text File\n",
    "    Clean_tokenized_concatText = dsc_m.clean_andTokenize_text(Concat_txt_File)\n",
    "    \n",
    "    # 5.) Create Set of Words From Clean & Tokenized Concat Text File\n",
    "    Set_tokenized_concatText = list(set(Clean_tokenized_concatText))\n",
    "    \n",
    "    # 6.) Create & Return Word Frequency Distribution Dataframe\n",
    "    df_word_freq_final = dsc_m.create_dataframe_setWord_freqDist(df_Master_DocketSheet_File, Set_tokenized_concatText)\n",
    "    \n",
    "    return df_word_freq_final\n"
   ]
  },
  {
   "cell_type": "code",
   "execution_count": 12,
   "metadata": {},
   "outputs": [
    {
     "name": "stdout",
     "output_type": "stream",
     "text": [
      "Concatenated text created\n",
      "\n",
      "Concatenated text imported\n",
      "\n",
      "Stage 1 \n",
      "\n",
      "List_avg_appearaance returned\n",
      "\n",
      "Stage 2 \n",
      "\n",
      "List_avg_appearaance returned\n",
      "\n",
      "Stage 3 \n",
      "\n",
      "List_avg_appearaance returned\n",
      "\n",
      "Stage 4 \n",
      "\n",
      "List_avg_appearaance returned\n",
      "\n",
      "Stage 5 \n",
      "\n",
      "List_avg_appearaance returned\n",
      "\n",
      "Stage 6 \n",
      "\n",
      "List_avg_appearaance returned\n",
      "\n",
      "Stage 7 \n",
      "\n",
      "List_avg_appearaance returned\n",
      "\n",
      "Stage 8 \n",
      "\n",
      "List_avg_appearaance returned\n",
      "\n",
      "Stage 9 \n",
      "\n",
      "List_avg_appearaance returned\n",
      "\n",
      "Stage 10 \n",
      "\n",
      "List_avg_appearaance returned\n",
      "\n",
      "Stage 11 \n",
      "\n",
      "List_avg_appearaance returned\n",
      "\n"
     ]
    }
   ],
   "source": [
    "df_Word_Freq_Dist = master_code_Pipeline_create_dataframe_setWord_freqDist(Docket_sheet_file)"
   ]
  },
  {
   "cell_type": "code",
   "execution_count": 13,
   "metadata": {},
   "outputs": [
    {
     "name": "stdout",
     "output_type": "stream",
     "text": [
      "hello\n"
     ]
    }
   ],
   "source": [
    " print('hello')"
   ]
  },
  {
   "cell_type": "code",
   "execution_count": null,
   "metadata": {
    "collapsed": true
   },
   "outputs": [],
   "source": [
    "# WRITE DATAFRAME TO EXCEL"
   ]
  },
  {
   "cell_type": "code",
   "execution_count": 14,
   "metadata": {},
   "outputs": [],
   "source": [
    "dsc_m.write_to_excel(df_Word_Freq_Dist, 'DocketSheet_wordSet_Freq_Dist_v2')"
   ]
  },
  {
   "cell_type": "code",
   "execution_count": null,
   "metadata": {
    "collapsed": true
   },
   "outputs": [],
   "source": []
  },
  {
   "cell_type": "code",
   "execution_count": null,
   "metadata": {
    "collapsed": true
   },
   "outputs": [],
   "source": [
    "# IMPORT WORD FREQUENCY DISTRIBUTION DATAFRAME"
   ]
  },
  {
   "cell_type": "code",
   "execution_count": 15,
   "metadata": {},
   "outputs": [],
   "source": [
    "df_wordFreq = pd.read_excel('DocketSheet_wordSet_Freq_Dist_v2.xlsx')"
   ]
  },
  {
   "cell_type": "code",
   "execution_count": 16,
   "metadata": {},
   "outputs": [
    {
     "data": {
      "text/html": [
       "<div>\n",
       "<style>\n",
       "    .dataframe thead tr:only-child th {\n",
       "        text-align: right;\n",
       "    }\n",
       "\n",
       "    .dataframe thead th {\n",
       "        text-align: left;\n",
       "    }\n",
       "\n",
       "    .dataframe tbody tr th {\n",
       "        vertical-align: top;\n",
       "    }\n",
       "</style>\n",
       "<table border=\"1\" class=\"dataframe\">\n",
       "  <thead>\n",
       "    <tr style=\"text-align: right;\">\n",
       "      <th></th>\n",
       "      <th>Life Cycle Stage: 1.0</th>\n",
       "      <th>Life Cycle Stage: 2.0</th>\n",
       "      <th>Life Cycle Stage: 3.0</th>\n",
       "      <th>Life Cycle Stage: 4.0</th>\n",
       "      <th>Life Cycle Stage: 5.0</th>\n",
       "      <th>Life Cycle Stage: 6.0</th>\n",
       "      <th>Life Cycle Stage: 7.0</th>\n",
       "      <th>Life Cycle Stage: 8.0</th>\n",
       "      <th>Life Cycle Stage: 9.0</th>\n",
       "      <th>Life Cycle Stage: 10.0</th>\n",
       "      <th>Life Cycle Stage: 11.0</th>\n",
       "    </tr>\n",
       "  </thead>\n",
       "  <tbody>\n",
       "    <tr>\n",
       "      <th>adam</th>\n",
       "      <td>0.00</td>\n",
       "      <td>0.01</td>\n",
       "      <td>0.01</td>\n",
       "      <td>0.00</td>\n",
       "      <td>0.01</td>\n",
       "      <td>0.00</td>\n",
       "      <td>0.00</td>\n",
       "      <td>0.00</td>\n",
       "      <td>0.0</td>\n",
       "      <td>0.0</td>\n",
       "      <td>0.00</td>\n",
       "    </tr>\n",
       "    <tr>\n",
       "      <th>farah</th>\n",
       "      <td>0.00</td>\n",
       "      <td>0.00</td>\n",
       "      <td>0.00</td>\n",
       "      <td>0.00</td>\n",
       "      <td>0.00</td>\n",
       "      <td>0.00</td>\n",
       "      <td>0.00</td>\n",
       "      <td>0.00</td>\n",
       "      <td>0.0</td>\n",
       "      <td>0.0</td>\n",
       "      <td>0.00</td>\n",
       "    </tr>\n",
       "    <tr>\n",
       "      <th>karen</th>\n",
       "      <td>0.02</td>\n",
       "      <td>0.03</td>\n",
       "      <td>0.04</td>\n",
       "      <td>0.00</td>\n",
       "      <td>0.01</td>\n",
       "      <td>0.00</td>\n",
       "      <td>0.00</td>\n",
       "      <td>0.00</td>\n",
       "      <td>0.0</td>\n",
       "      <td>0.0</td>\n",
       "      <td>0.00</td>\n",
       "    </tr>\n",
       "    <tr>\n",
       "      <th>purchas</th>\n",
       "      <td>0.00</td>\n",
       "      <td>0.00</td>\n",
       "      <td>0.00</td>\n",
       "      <td>0.00</td>\n",
       "      <td>0.00</td>\n",
       "      <td>0.00</td>\n",
       "      <td>0.00</td>\n",
       "      <td>0.00</td>\n",
       "      <td>0.0</td>\n",
       "      <td>0.0</td>\n",
       "      <td>0.00</td>\n",
       "    </tr>\n",
       "    <tr>\n",
       "      <th>coot</th>\n",
       "      <td>0.01</td>\n",
       "      <td>0.00</td>\n",
       "      <td>0.01</td>\n",
       "      <td>0.00</td>\n",
       "      <td>0.00</td>\n",
       "      <td>0.00</td>\n",
       "      <td>0.00</td>\n",
       "      <td>0.01</td>\n",
       "      <td>0.0</td>\n",
       "      <td>0.0</td>\n",
       "      <td>0.00</td>\n",
       "    </tr>\n",
       "    <tr>\n",
       "      <th>regard</th>\n",
       "      <td>0.00</td>\n",
       "      <td>0.00</td>\n",
       "      <td>0.00</td>\n",
       "      <td>0.00</td>\n",
       "      <td>0.01</td>\n",
       "      <td>0.01</td>\n",
       "      <td>0.01</td>\n",
       "      <td>0.03</td>\n",
       "      <td>0.0</td>\n",
       "      <td>0.0</td>\n",
       "      <td>0.00</td>\n",
       "    </tr>\n",
       "    <tr>\n",
       "      <th>fuller</th>\n",
       "      <td>0.00</td>\n",
       "      <td>0.00</td>\n",
       "      <td>0.03</td>\n",
       "      <td>0.03</td>\n",
       "      <td>0.01</td>\n",
       "      <td>0.00</td>\n",
       "      <td>0.03</td>\n",
       "      <td>0.00</td>\n",
       "      <td>0.0</td>\n",
       "      <td>0.0</td>\n",
       "      <td>0.02</td>\n",
       "    </tr>\n",
       "    <tr>\n",
       "      <th>third</th>\n",
       "      <td>0.00</td>\n",
       "      <td>0.00</td>\n",
       "      <td>0.00</td>\n",
       "      <td>0.00</td>\n",
       "      <td>0.01</td>\n",
       "      <td>0.00</td>\n",
       "      <td>0.00</td>\n",
       "      <td>0.00</td>\n",
       "      <td>0.0</td>\n",
       "      <td>0.0</td>\n",
       "      <td>0.00</td>\n",
       "    </tr>\n",
       "    <tr>\n",
       "      <th>dimiss</th>\n",
       "      <td>0.00</td>\n",
       "      <td>0.00</td>\n",
       "      <td>0.01</td>\n",
       "      <td>0.00</td>\n",
       "      <td>0.00</td>\n",
       "      <td>0.00</td>\n",
       "      <td>0.00</td>\n",
       "      <td>0.00</td>\n",
       "      <td>0.0</td>\n",
       "      <td>0.0</td>\n",
       "      <td>0.00</td>\n",
       "    </tr>\n",
       "    <tr>\n",
       "      <th>labor</th>\n",
       "      <td>0.00</td>\n",
       "      <td>0.00</td>\n",
       "      <td>0.00</td>\n",
       "      <td>0.00</td>\n",
       "      <td>0.00</td>\n",
       "      <td>0.00</td>\n",
       "      <td>0.00</td>\n",
       "      <td>0.01</td>\n",
       "      <td>0.0</td>\n",
       "      <td>0.0</td>\n",
       "      <td>0.00</td>\n",
       "    </tr>\n",
       "    <tr>\n",
       "      <th>updat</th>\n",
       "      <td>0.01</td>\n",
       "      <td>0.02</td>\n",
       "      <td>0.01</td>\n",
       "      <td>0.00</td>\n",
       "      <td>0.01</td>\n",
       "      <td>0.00</td>\n",
       "      <td>0.00</td>\n",
       "      <td>0.00</td>\n",
       "      <td>0.0</td>\n",
       "      <td>0.0</td>\n",
       "      <td>0.00</td>\n",
       "    </tr>\n",
       "    <tr>\n",
       "      <th>duplic</th>\n",
       "      <td>0.00</td>\n",
       "      <td>0.01</td>\n",
       "      <td>0.00</td>\n",
       "      <td>0.00</td>\n",
       "      <td>0.00</td>\n",
       "      <td>0.01</td>\n",
       "      <td>0.00</td>\n",
       "      <td>0.00</td>\n",
       "      <td>0.0</td>\n",
       "      <td>0.0</td>\n",
       "      <td>0.00</td>\n",
       "    </tr>\n",
       "    <tr>\n",
       "      <th>broker</th>\n",
       "      <td>0.00</td>\n",
       "      <td>0.01</td>\n",
       "      <td>0.02</td>\n",
       "      <td>0.00</td>\n",
       "      <td>0.00</td>\n",
       "      <td>0.00</td>\n",
       "      <td>0.00</td>\n",
       "      <td>0.03</td>\n",
       "      <td>0.0</td>\n",
       "      <td>0.0</td>\n",
       "      <td>0.00</td>\n",
       "    </tr>\n",
       "    <tr>\n",
       "      <th>futur</th>\n",
       "      <td>0.00</td>\n",
       "      <td>0.00</td>\n",
       "      <td>0.00</td>\n",
       "      <td>0.02</td>\n",
       "      <td>0.00</td>\n",
       "      <td>0.00</td>\n",
       "      <td>0.00</td>\n",
       "      <td>0.00</td>\n",
       "      <td>0.0</td>\n",
       "      <td>0.0</td>\n",
       "      <td>0.00</td>\n",
       "    </tr>\n",
       "    <tr>\n",
       "      <th>clayton</th>\n",
       "      <td>0.00</td>\n",
       "      <td>0.01</td>\n",
       "      <td>0.00</td>\n",
       "      <td>0.00</td>\n",
       "      <td>0.00</td>\n",
       "      <td>0.00</td>\n",
       "      <td>0.00</td>\n",
       "      <td>0.00</td>\n",
       "      <td>0.0</td>\n",
       "      <td>0.0</td>\n",
       "      <td>0.04</td>\n",
       "    </tr>\n",
       "    <tr>\n",
       "      <th>totalsourc</th>\n",
       "      <td>0.01</td>\n",
       "      <td>0.00</td>\n",
       "      <td>0.00</td>\n",
       "      <td>0.00</td>\n",
       "      <td>0.00</td>\n",
       "      <td>0.00</td>\n",
       "      <td>0.00</td>\n",
       "      <td>0.00</td>\n",
       "      <td>0.0</td>\n",
       "      <td>0.0</td>\n",
       "      <td>0.00</td>\n",
       "    </tr>\n",
       "    <tr>\n",
       "      <th>refus</th>\n",
       "      <td>0.00</td>\n",
       "      <td>0.00</td>\n",
       "      <td>0.00</td>\n",
       "      <td>0.00</td>\n",
       "      <td>0.00</td>\n",
       "      <td>0.00</td>\n",
       "      <td>0.01</td>\n",
       "      <td>0.00</td>\n",
       "      <td>0.0</td>\n",
       "      <td>0.0</td>\n",
       "      <td>0.00</td>\n",
       "    </tr>\n",
       "    <tr>\n",
       "      <th>detail</th>\n",
       "      <td>0.01</td>\n",
       "      <td>0.00</td>\n",
       "      <td>0.00</td>\n",
       "      <td>0.00</td>\n",
       "      <td>0.00</td>\n",
       "      <td>0.00</td>\n",
       "      <td>0.00</td>\n",
       "      <td>0.01</td>\n",
       "      <td>0.0</td>\n",
       "      <td>0.0</td>\n",
       "      <td>0.00</td>\n",
       "    </tr>\n",
       "    <tr>\n",
       "      <th>waterproof</th>\n",
       "      <td>0.01</td>\n",
       "      <td>0.02</td>\n",
       "      <td>0.00</td>\n",
       "      <td>0.02</td>\n",
       "      <td>0.01</td>\n",
       "      <td>0.00</td>\n",
       "      <td>0.00</td>\n",
       "      <td>0.00</td>\n",
       "      <td>0.0</td>\n",
       "      <td>0.0</td>\n",
       "      <td>0.00</td>\n",
       "    </tr>\n",
       "    <tr>\n",
       "      <th>romi</th>\n",
       "      <td>0.00</td>\n",
       "      <td>0.00</td>\n",
       "      <td>0.05</td>\n",
       "      <td>0.00</td>\n",
       "      <td>0.01</td>\n",
       "      <td>0.00</td>\n",
       "      <td>0.00</td>\n",
       "      <td>0.00</td>\n",
       "      <td>0.0</td>\n",
       "      <td>0.0</td>\n",
       "      <td>0.00</td>\n",
       "    </tr>\n",
       "  </tbody>\n",
       "</table>\n",
       "</div>"
      ],
      "text/plain": [
       "            Life Cycle Stage: 1.0  Life Cycle Stage: 2.0  \\\n",
       "adam                         0.00                   0.01   \n",
       "farah                        0.00                   0.00   \n",
       "karen                        0.02                   0.03   \n",
       "purchas                      0.00                   0.00   \n",
       "coot                         0.01                   0.00   \n",
       "regard                       0.00                   0.00   \n",
       "fuller                       0.00                   0.00   \n",
       "third                        0.00                   0.00   \n",
       "dimiss                       0.00                   0.00   \n",
       "labor                        0.00                   0.00   \n",
       "updat                        0.01                   0.02   \n",
       "duplic                       0.00                   0.01   \n",
       "broker                       0.00                   0.01   \n",
       "futur                        0.00                   0.00   \n",
       "clayton                      0.00                   0.01   \n",
       "totalsourc                   0.01                   0.00   \n",
       "refus                        0.00                   0.00   \n",
       "detail                       0.01                   0.00   \n",
       "waterproof                   0.01                   0.02   \n",
       "romi                         0.00                   0.00   \n",
       "\n",
       "            Life Cycle Stage: 3.0  Life Cycle Stage: 4.0  \\\n",
       "adam                         0.01                   0.00   \n",
       "farah                        0.00                   0.00   \n",
       "karen                        0.04                   0.00   \n",
       "purchas                      0.00                   0.00   \n",
       "coot                         0.01                   0.00   \n",
       "regard                       0.00                   0.00   \n",
       "fuller                       0.03                   0.03   \n",
       "third                        0.00                   0.00   \n",
       "dimiss                       0.01                   0.00   \n",
       "labor                        0.00                   0.00   \n",
       "updat                        0.01                   0.00   \n",
       "duplic                       0.00                   0.00   \n",
       "broker                       0.02                   0.00   \n",
       "futur                        0.00                   0.02   \n",
       "clayton                      0.00                   0.00   \n",
       "totalsourc                   0.00                   0.00   \n",
       "refus                        0.00                   0.00   \n",
       "detail                       0.00                   0.00   \n",
       "waterproof                   0.00                   0.02   \n",
       "romi                         0.05                   0.00   \n",
       "\n",
       "            Life Cycle Stage: 5.0  Life Cycle Stage: 6.0  \\\n",
       "adam                         0.01                   0.00   \n",
       "farah                        0.00                   0.00   \n",
       "karen                        0.01                   0.00   \n",
       "purchas                      0.00                   0.00   \n",
       "coot                         0.00                   0.00   \n",
       "regard                       0.01                   0.01   \n",
       "fuller                       0.01                   0.00   \n",
       "third                        0.01                   0.00   \n",
       "dimiss                       0.00                   0.00   \n",
       "labor                        0.00                   0.00   \n",
       "updat                        0.01                   0.00   \n",
       "duplic                       0.00                   0.01   \n",
       "broker                       0.00                   0.00   \n",
       "futur                        0.00                   0.00   \n",
       "clayton                      0.00                   0.00   \n",
       "totalsourc                   0.00                   0.00   \n",
       "refus                        0.00                   0.00   \n",
       "detail                       0.00                   0.00   \n",
       "waterproof                   0.01                   0.00   \n",
       "romi                         0.01                   0.00   \n",
       "\n",
       "            Life Cycle Stage: 7.0  Life Cycle Stage: 8.0  \\\n",
       "adam                         0.00                   0.00   \n",
       "farah                        0.00                   0.00   \n",
       "karen                        0.00                   0.00   \n",
       "purchas                      0.00                   0.00   \n",
       "coot                         0.00                   0.01   \n",
       "regard                       0.01                   0.03   \n",
       "fuller                       0.03                   0.00   \n",
       "third                        0.00                   0.00   \n",
       "dimiss                       0.00                   0.00   \n",
       "labor                        0.00                   0.01   \n",
       "updat                        0.00                   0.00   \n",
       "duplic                       0.00                   0.00   \n",
       "broker                       0.00                   0.03   \n",
       "futur                        0.00                   0.00   \n",
       "clayton                      0.00                   0.00   \n",
       "totalsourc                   0.00                   0.00   \n",
       "refus                        0.01                   0.00   \n",
       "detail                       0.00                   0.01   \n",
       "waterproof                   0.00                   0.00   \n",
       "romi                         0.00                   0.00   \n",
       "\n",
       "            Life Cycle Stage: 9.0  Life Cycle Stage: 10.0  \\\n",
       "adam                          0.0                     0.0   \n",
       "farah                         0.0                     0.0   \n",
       "karen                         0.0                     0.0   \n",
       "purchas                       0.0                     0.0   \n",
       "coot                          0.0                     0.0   \n",
       "regard                        0.0                     0.0   \n",
       "fuller                        0.0                     0.0   \n",
       "third                         0.0                     0.0   \n",
       "dimiss                        0.0                     0.0   \n",
       "labor                         0.0                     0.0   \n",
       "updat                         0.0                     0.0   \n",
       "duplic                        0.0                     0.0   \n",
       "broker                        0.0                     0.0   \n",
       "futur                         0.0                     0.0   \n",
       "clayton                       0.0                     0.0   \n",
       "totalsourc                    0.0                     0.0   \n",
       "refus                         0.0                     0.0   \n",
       "detail                        0.0                     0.0   \n",
       "waterproof                    0.0                     0.0   \n",
       "romi                          0.0                     0.0   \n",
       "\n",
       "            Life Cycle Stage: 11.0  \n",
       "adam                          0.00  \n",
       "farah                         0.00  \n",
       "karen                         0.00  \n",
       "purchas                       0.00  \n",
       "coot                          0.00  \n",
       "regard                        0.00  \n",
       "fuller                        0.02  \n",
       "third                         0.00  \n",
       "dimiss                        0.00  \n",
       "labor                         0.00  \n",
       "updat                         0.00  \n",
       "duplic                        0.00  \n",
       "broker                        0.00  \n",
       "futur                         0.00  \n",
       "clayton                       0.04  \n",
       "totalsourc                    0.00  \n",
       "refus                         0.00  \n",
       "detail                        0.00  \n",
       "waterproof                    0.00  \n",
       "romi                          0.00  "
      ]
     },
     "execution_count": 16,
     "metadata": {},
     "output_type": "execute_result"
    }
   ],
   "source": [
    "df_wordFreq.head(20)"
   ]
  },
  {
   "cell_type": "code",
   "execution_count": null,
   "metadata": {
    "collapsed": true
   },
   "outputs": [],
   "source": []
  },
  {
   "cell_type": "code",
   "execution_count": null,
   "metadata": {
    "collapsed": true
   },
   "outputs": [],
   "source": []
  },
  {
   "cell_type": "code",
   "execution_count": null,
   "metadata": {
    "collapsed": true
   },
   "outputs": [],
   "source": []
  },
  {
   "cell_type": "code",
   "execution_count": null,
   "metadata": {
    "collapsed": true
   },
   "outputs": [],
   "source": []
  },
  {
   "cell_type": "code",
   "execution_count": null,
   "metadata": {
    "collapsed": true
   },
   "outputs": [],
   "source": []
  },
  {
   "cell_type": "code",
   "execution_count": null,
   "metadata": {
    "collapsed": true
   },
   "outputs": [],
   "source": []
  },
  {
   "cell_type": "code",
   "execution_count": null,
   "metadata": {
    "collapsed": true
   },
   "outputs": [],
   "source": []
  },
  {
   "cell_type": "code",
   "execution_count": null,
   "metadata": {
    "collapsed": true
   },
   "outputs": [],
   "source": []
  },
  {
   "cell_type": "code",
   "execution_count": null,
   "metadata": {
    "collapsed": true
   },
   "outputs": [],
   "source": []
  },
  {
   "cell_type": "code",
   "execution_count": null,
   "metadata": {
    "collapsed": true
   },
   "outputs": [],
   "source": []
  },
  {
   "cell_type": "code",
   "execution_count": null,
   "metadata": {
    "collapsed": true
   },
   "outputs": [],
   "source": []
  },
  {
   "cell_type": "code",
   "execution_count": null,
   "metadata": {
    "collapsed": true
   },
   "outputs": [],
   "source": []
  },
  {
   "cell_type": "code",
   "execution_count": null,
   "metadata": {
    "collapsed": true
   },
   "outputs": [],
   "source": []
  },
  {
   "cell_type": "code",
   "execution_count": null,
   "metadata": {
    "collapsed": true
   },
   "outputs": [],
   "source": []
  },
  {
   "cell_type": "code",
   "execution_count": null,
   "metadata": {
    "collapsed": true
   },
   "outputs": [],
   "source": []
  }
 ],
 "metadata": {
  "kernelspec": {
   "display_name": "Python 3",
   "language": "python",
   "name": "python3"
  },
  "language_info": {
   "codemirror_mode": {
    "name": "ipython",
    "version": 3
   },
   "file_extension": ".py",
   "mimetype": "text/x-python",
   "name": "python",
   "nbconvert_exporter": "python",
   "pygments_lexer": "ipython3",
   "version": "3.6.1"
  }
 },
 "nbformat": 4,
 "nbformat_minor": 2
}
