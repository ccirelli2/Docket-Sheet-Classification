{
 "cells": [
  {
   "cell_type": "code",
   "execution_count": 1,
   "metadata": {
    "collapsed": true
   },
   "outputs": [],
   "source": [
    "# THE PURPOSE OF THIS STAGE IS TO OBTAIN THE WORD FREQUENCY FOR OUR TOP 5 WORDS THAT WILL BE FED INTO\n",
    "# THE STAGE 4 PREDICTIVE ALGORITHS"
   ]
  },
  {
   "cell_type": "code",
   "execution_count": 2,
   "metadata": {
    "collapsed": true
   },
   "outputs": [],
   "source": [
    "# IMPORT PACKAGES & PERSONAL MODULES"
   ]
  },
  {
   "cell_type": "code",
   "execution_count": 3,
   "metadata": {
    "collapsed": true
   },
   "outputs": [],
   "source": [
    "import os\n",
    "import nltk\n",
    "import pandas as pd\n",
    "os.chdir(r'/home/ccirelli2/Desktop/Docket-Sheet-Classification/Modules')\n",
    "import Step3_Module_Ngrams_Docketsheet_KeyWord_FreqDist as stp3"
   ]
  },
  {
   "cell_type": "code",
   "execution_count": 4,
   "metadata": {
    "collapsed": true
   },
   "outputs": [],
   "source": [
    "# Import Docket sheets w/ pre-classified time periods\n",
    "os.chdir(r'/home/ccirelli2/Desktop/Docket-Sheet-Classification/Data_Files_applicable_all_code')\n",
    "docketsheet_master_file = pd.read_excel(r'DocketSheet Classification_70_02.22.2018.xlsx')"
   ]
  },
  {
   "cell_type": "code",
   "execution_count": 5,
   "metadata": {
    "collapsed": true
   },
   "outputs": [],
   "source": [
    "# Target Directory"
   ]
  },
  {
   "cell_type": "code",
   "execution_count": 6,
   "metadata": {
    "collapsed": true
   },
   "outputs": [],
   "source": [
    "# Directory where files are lo\n",
    "Target_dir = r'/home/ccirelli2/Desktop/Docket-Sheet-Classification/Result_Ngrams'"
   ]
  },
  {
   "cell_type": "code",
   "execution_count": 7,
   "metadata": {
    "collapsed": true
   },
   "outputs": [],
   "source": [
    "# MASTER FUNCTION - RUN OVER DIRECTORY OR SINGLE FILE"
   ]
  },
  {
   "cell_type": "code",
   "execution_count": 8,
   "metadata": {
    "collapsed": true
   },
   "outputs": [],
   "source": [
    "def get_DocketSheet_KeyWord_Appearance_Master(Docketsheet, DirNgramLoc, Iterable = False,\n",
    "                                                Target_file = '', KeyPhrase = 'TopWords',\n",
    "                                                Destination_location = '', Transpose4mlModel = True, \n",
    "                                                Write2Excel = True):\n",
    "    '''Documentation\n",
    "    \n",
    "    KeyPhrase  = Chose the key phrase in the file name that will limit the files that are use in the code. \n",
    "                 Example:  Use 'Bigrams' to only obtain results for those files using Bigrams, \n",
    "                           or 'Avg_not_zero for files using that methodology. \n",
    "    \n",
    "    '''\n",
    "    \n",
    "    \n",
    "    # Change directory to where the Ngram Key Words are saved\n",
    "    os.chdir(DirNgramLoc)\n",
    "    # Obtain Files\n",
    "    List_files = [file for file in os.listdir() if KeyPhrase in file]\n",
    "    \n",
    "    # Obtain Word Appearance for All Files In Dir\n",
    "    if Iterable == True:\n",
    "        # Loop over directory of files\n",
    "        for file in List_files:\n",
    "                # Change directory back to where our files are saved. \n",
    "                os.chdir(DirNgramLoc)\n",
    "                \n",
    "                # Run Algorithm to obtain KeyWordAppearance. \n",
    "                DocketSheet_KeyWord_Appearance = stp3.get_KeyWordAppearance_DocketsheetEntries(\n",
    "                                                Docketsheet = Docketsheet, \n",
    "                                                File = file, \n",
    "                                                Write2Excel = Write2Excel, \n",
    "                                                Destination_location = Destination_location, \n",
    "                                                Transpose4mlModel = Transpose4mlModel)\n",
    "                \n",
    "\n",
    "    # If you only want results for a single file         \n",
    "    else:\n",
    "        DocketSheet_KeyWord_Appearance = stp3.get_KeyWordAppearance_DocketsheetEntries(\n",
    "                                                Docketsheet = Docketsheet, \n",
    "                                                File = Target_file, \n",
    "                                                Write2Excel = Write2Excel, \n",
    "                                                Destination_location = Destination_location, \n",
    "                                                Transpose4mlModel = Transpose4mlModel)\n",
    "        return DocketSheet_KeyWord_Appearance\n",
    "    \n",
    "    "
   ]
  },
  {
   "cell_type": "code",
   "execution_count": 10,
   "metadata": {
    "collapsed": true
   },
   "outputs": [],
   "source": [
    "Location = r'/home/ccirelli2/Desktop/Docket-Sheet-Classification/Results_Docketsheet_wordMatches'"
   ]
  },
  {
   "cell_type": "code",
   "execution_count": null,
   "metadata": {
    "scrolled": true
   },
   "outputs": [],
   "source": [
    "get_DocketSheet_KeyWord_Appearance_Master(  \n",
    "                Docketsheet = docketsheet_master_file, \n",
    "                DirNgramLoc = '/home/ccirelli2/Desktop/Docket-Sheet-Classification/Result_Ngrams', \n",
    "                Iterable = True,      \n",
    "                Target_file = None #None as Iterable is True, meaning we want to iterate the Dir for all files. \n",
    "                KeyPhrase = 'TopWords',      \n",
    "                Destination_location = Location,\n",
    "                Transpose4mlModel = True, \n",
    "                Write2Excel = True)"
   ]
  },
  {
   "cell_type": "code",
   "execution_count": null,
   "metadata": {},
   "outputs": [],
   "source": []
  },
  {
   "cell_type": "code",
   "execution_count": null,
   "metadata": {
    "collapsed": true
   },
   "outputs": [],
   "source": []
  },
  {
   "cell_type": "code",
   "execution_count": null,
   "metadata": {
    "collapsed": true
   },
   "outputs": [],
   "source": []
  },
  {
   "cell_type": "code",
   "execution_count": null,
   "metadata": {
    "collapsed": true
   },
   "outputs": [],
   "source": []
  },
  {
   "cell_type": "code",
   "execution_count": null,
   "metadata": {
    "collapsed": true
   },
   "outputs": [],
   "source": []
  },
  {
   "cell_type": "code",
   "execution_count": null,
   "metadata": {
    "collapsed": true
   },
   "outputs": [],
   "source": []
  },
  {
   "cell_type": "code",
   "execution_count": null,
   "metadata": {
    "collapsed": true
   },
   "outputs": [],
   "source": []
  },
  {
   "cell_type": "code",
   "execution_count": null,
   "metadata": {
    "collapsed": true
   },
   "outputs": [],
   "source": []
  },
  {
   "cell_type": "code",
   "execution_count": null,
   "metadata": {
    "collapsed": true
   },
   "outputs": [],
   "source": []
  }
 ],
 "metadata": {
  "kernelspec": {
   "display_name": "Python 3",
   "language": "python",
   "name": "python3"
  },
  "language_info": {
   "codemirror_mode": {
    "name": "ipython",
    "version": 3
   },
   "file_extension": ".py",
   "mimetype": "text/x-python",
   "name": "python",
   "nbconvert_exporter": "python",
   "pygments_lexer": "ipython3",
   "version": "3.6.3"
  }
 },
 "nbformat": 4,
 "nbformat_minor": 2
}
