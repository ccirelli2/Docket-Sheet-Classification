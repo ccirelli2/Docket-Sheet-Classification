{
 "cells": [
  {
   "cell_type": "code",
   "execution_count": 2,
   "metadata": {
    "collapsed": true
   },
   "outputs": [],
   "source": [
    "import os\n",
    "import pandas as pd"
   ]
  },
  {
   "cell_type": "code",
   "execution_count": 71,
   "metadata": {},
   "outputs": [],
   "source": [
    "os.chdir(r'/home/ccirelli2/Desktop/Docket-Sheet-Classification/Modules')\n",
    "import Step4_Module_Machine_Learning_Algorithms as stp4"
   ]
  },
  {
   "cell_type": "code",
   "execution_count": null,
   "metadata": {
    "collapsed": true
   },
   "outputs": [],
   "source": []
  },
  {
   "cell_type": "code",
   "execution_count": null,
   "metadata": {
    "collapsed": true
   },
   "outputs": [],
   "source": [
    "# Change Dir to where the docketsheet average word appearance are saved. "
   ]
  },
  {
   "cell_type": "code",
   "execution_count": 72,
   "metadata": {},
   "outputs": [],
   "source": [
    "os.chdir(r'/home/ccirelli2/Desktop/Docket-Sheet-Classification/Results_Docketsheet_wordMatches')"
   ]
  },
  {
   "cell_type": "code",
   "execution_count": 4,
   "metadata": {
    "collapsed": true
   },
   "outputs": [],
   "source": [
    "List_files = [file for file in os.listdir()]"
   ]
  },
  {
   "cell_type": "code",
   "execution_count": 46,
   "metadata": {},
   "outputs": [],
   "source": [
    "def get_count_nomatch_columns(File, Count = 'Count_zero'):\n",
    "    \n",
    "    # Read the file in as a pandas dataframe\n",
    "    dataframe = pd.read_excel(File)\n",
    "    # Drop target column\n",
    "    df_drop_target = dataframe.drop(['Life Cycle Stage'], axis = 1)\n",
    "    # Keep count of rows with no matches\n",
    "    Count_all = 0\n",
    "    Count_zero = 0\n",
    "    # Iterate over each row\n",
    "    for row in df_drop_target.itertuples():\n",
    "        # Count Each Row\n",
    "        Count_all +=1\n",
    "        # Calculate the sum of the row\n",
    "        if sum(row[1:]) == 0:\n",
    "            # If the sum is 0, add one to the count. \n",
    "            Count_zero +=1\n",
    "    \n",
    "    if Count == 'Count_zero':\n",
    "        return Count_zero\n",
    "    elif Count == 'Count_all':\n",
    "        return Count_all"
   ]
  },
  {
   "cell_type": "code",
   "execution_count": 69,
   "metadata": {},
   "outputs": [],
   "source": [
    "def create_dataframe_all_Files_Freq_NoMatches(List_files, Write2Excel = False, \n",
    "                                              Destination_location = None):\n",
    "    \n",
    "    Dict = {}\n",
    "    \n",
    "    for file in List_files:\n",
    "        print('Working on file', file)\n",
    "        Count_zero = get_count_nomatch_columns(file, Count = 'Count_zero')\n",
    "        Count_all = get_count_nomatch_columns(file, Count = 'Count_all')\n",
    "        Dict[file] = (Count_zero, round(Count_zero/Count_all, 2))\n",
    "        \n",
    "    df = pd.DataFrame(Dict).transpose()\n",
    "    \n",
    "    # Write to Excel\n",
    "    if Write2Excel == True:\n",
    "        print('Writing dataframe to Excel')\n",
    "        os.chdir(Destination_location)\n",
    "        File_name = 'Result Calculation No Matches' \n",
    "        print('File name => ' + File_name)\n",
    "        stp4.write_to_excel(df, Destination_location, File_name)\n",
    "        print('Your file has been saved to =>  ', Destination_location, '\\n', '\\n')\n",
    "        # Otherwise, return the dataframe to the user.    \n",
    "    else:\n",
    "        return df\n",
    "    \n",
    "    return df  "
   ]
  },
  {
   "cell_type": "code",
   "execution_count": 73,
   "metadata": {},
   "outputs": [
    {
     "name": "stdout",
     "output_type": "stream",
     "text": [
      "Working on file DocketSheet_WordMatches_TopWords_Quadgrams_CalculationIII_Correlation_Coefficient_Top15_highest_COCOEF.xlsx.xlsx\n",
      "Working on file DocketSheet_WordMatches_TopWords_Quadgrams_CalculationII_AVG_not_zero_Top5_highest_STDV_AVG_below_20prct.xlsx.xlsx\n",
      "Working on file DocketSheet_WordMatches_TopWords_Nograms_CalculationII_AVG_not_zero_Top15_highest_STDV.xlsx.xlsx\n",
      "Working on file DocketSheet_WordMatches_TopWords_Trigrams_CalculationI_homebrew_STDV_Top5_highest_STDV_AVG_below_20prct.xlsx.xlsx\n",
      "Working on file DocketSheet_WordMatches_TopWords_Nograms_CalculationII_AVG_not_zero_Top5_highest_STDV_AVG_below_20prct.xlsx.xlsx\n",
      "Working on file DocketSheet_WordMatches_TopWords_Bigrams_CalculationII_AVG_not_zero_Top5_highest_STDV_lowest_AVG.xlsx.xlsx\n",
      "Working on file DocketSheet_WordMatches_TopWords_Nograms_CalculationIII_Correlation_Coefficient_Top15_highest_COCOEF.xlsx.xlsx\n",
      "Working on file DocketSheet_WordMatches_TopWords_Quadgrams_CalculationI_homebrew_STDV_Top5_highest_STDV_AVG_below_20prct.xlsx.xlsx\n",
      "Working on file DocketSheet_WordMatches_TopWords_Trigrams_CalculationI_homebrew_STDV_Top15_highest_STDV.xlsx.xlsx\n",
      "Working on file DocketSheet_WordMatches_TopWords_Quadgrams_CalculationII_AVG_not_zero_Top5_lowest_STDV_highest_AVG.xlsx.xlsx\n",
      "Working on file DocketSheet_WordMatches_TopWords_Bigrams_CalculationII_AVG_not_zero_Top5_highest_STDV_AVG_below_20prct.xlsx.xlsx\n",
      "Working on file DocketSheet_WordMatches_TopWords_Bigrams_CalculationII_AVG_not_zero_Top15_highest_STDV.xlsx.xlsx\n",
      "Working on file DocketSheet_WordMatches_TopWords_Bigrams_CalculationII_AVG_not_zero_Top5_lowest_STDV_highest_AVG.xlsx.xlsx\n",
      "Working on file DocketSheet_WordMatches_TopWords_Nograms_CalculationII_AVG_not_zero_Top5_lowest_STDV_highest_AVG.xlsx.xlsx\n",
      "Working on file DocketSheet_WordMatches_TopWords_Nograms_CalculationII_AVG_not_zero_Top5_highest_STDV_lowest_AVG.xlsx.xlsx\n",
      "Working on file DocketSheet_WordMatches_TopWords_Quadgrams_CalculationI_homebrew_STDV_Top15_highest_STDV.xlsx.xlsx\n",
      "Working on file DocketSheet_WordMatches_TopWords_Quadgrams_CalculationII_AVG_not_zero_Top5_highest_STDV_lowest_AVG.xlsx.xlsx\n",
      "Working on file DocketSheet_WordMatches_TopWords_Trigrams_CalculationI_homebrew_STDV_Top5_lowest_STDV_highest_AVG.xlsx.xlsx\n",
      "Working on file DocketSheet_WordMatches_TopWords_Bigrams_CalculationI_homebrew_STDV_Top15_highest_STDV.xlsx.xlsx\n",
      "Working on file DocketSheet_WordMatches_TopWords_Bigrams_CalculationIII_Correlation_Coefficient_Top5_lowest_COCOEF_highest_AVG.xlsx.xlsx\n",
      "Working on file DocketSheet_WordMatches_TopWords_Trigrams_CalculationII_AVG_not_zero_Top15_highest_STDV.xlsx.xlsx\n",
      "Working on file DocketSheet_WordMatches_TopWords_Quadgrams_CalculationI_homebrew_STDV_Top5_highest_STDV_lowest_AVG.xlsx.xlsx\n",
      "Working on file DocketSheet_WordMatches_TopWords_Trigrams_CalculationIII_Correlation_Coefficient_Top5_lowest_COCOEF_highest_AVG.xlsx.xlsx\n",
      "Working on file DocketSheet_WordMatches_TopWords_Nograms_CalculationI_homebrew_STDV_Top5_highest_STDV_AVG_below_20prct.xlsx.xlsx\n",
      "Working on file DocketSheet_WordMatches_TopWords_Trigrams_CalculationI_homebrew_STDV_Top5_highest_STDV_lowest_AVG.xlsx.xlsx\n",
      "Working on file DocketSheet_WordMatches_TopWords_Trigrams_CalculationII_AVG_not_zero_Top5_highest_STDV_AVG_below_20prct.xlsx.xlsx\n",
      "Working on file DocketSheet_WordMatches_TopWords_Bigrams_CalculationI_homebrew_STDV_Top5_highest_STDV_AVG_below_20prct.xlsx.xlsx\n",
      "Working on file DocketSheet_WordMatches_TopWords_Nograms_CalculationI_homebrew_STDV_Top5_highest_STDV_lowest_AVG.xlsx.xlsx\n",
      "Working on file DocketSheet_WordMatches_TopWords_Bigrams_CalculationI_homebrew_STDV_Top5_lowest_STDV_highest_AVG.xlsx.xlsx\n",
      "Working on file DocketSheet_WordMatches_TopWords_Nograms_CalculationIII_Correlation_Coefficient_Top5_lowest_COCOEF_highest_AVG.xlsx.xlsx\n",
      "Working on file DocketSheet_WordMatches_TopWords_Quadgrams_CalculationII_AVG_not_zero_Top15_highest_STDV.xlsx.xlsx\n",
      "Working on file DocketSheet_WordMatches_TopWords_Nograms_CalculationI_homebrew_STDV_Top5_lowest_STDV_highest_AVG.xlsx.xlsx\n",
      "Writing dataframe to Excel\n",
      "File name => Result Calculation No Matches\n",
      "Your file has been saved to =>   /home/ccirelli2/Desktop/Docket-Sheet-Classification \n",
      " \n",
      "\n"
     ]
    }
   ],
   "source": [
    "Destination = r'/home/ccirelli2/Desktop/Docket-Sheet-Classification'\n",
    "\n",
    "df = create_dataframe_all_Files_Freq_NoMatches(List_files, \n",
    "                                               Write2Excel = True, \n",
    "                                               Destination_location = Destination)"
   ]
  },
  {
   "cell_type": "code",
   "execution_count": null,
   "metadata": {},
   "outputs": [],
   "source": []
  },
  {
   "cell_type": "code",
   "execution_count": null,
   "metadata": {
    "collapsed": true
   },
   "outputs": [],
   "source": []
  },
  {
   "cell_type": "code",
   "execution_count": null,
   "metadata": {
    "collapsed": true
   },
   "outputs": [],
   "source": []
  },
  {
   "cell_type": "code",
   "execution_count": null,
   "metadata": {
    "collapsed": true
   },
   "outputs": [],
   "source": []
  },
  {
   "cell_type": "code",
   "execution_count": null,
   "metadata": {
    "collapsed": true
   },
   "outputs": [],
   "source": []
  }
 ],
 "metadata": {
  "kernelspec": {
   "display_name": "Python 3",
   "language": "python",
   "name": "python3"
  },
  "language_info": {
   "codemirror_mode": {
    "name": "ipython",
    "version": 3
   },
   "file_extension": ".py",
   "mimetype": "text/x-python",
   "name": "python",
   "nbconvert_exporter": "python",
   "pygments_lexer": "ipython3",
   "version": "3.6.3"
  }
 },
 "nbformat": 4,
 "nbformat_minor": 2
}
